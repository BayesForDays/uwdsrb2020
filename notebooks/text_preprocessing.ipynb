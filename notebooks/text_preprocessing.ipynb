{
 "cells": [
  {
   "cell_type": "markdown",
   "metadata": {},
   "source": [
    "### Import minimal packages for text processing"
   ]
  },
  {
   "cell_type": "code",
   "execution_count": 1,
   "metadata": {},
   "outputs": [],
   "source": [
    "from nltk import sent_tokenize, word_tokenize\n",
    "import pandas as pd"
   ]
  },
  {
   "cell_type": "markdown",
   "metadata": {},
   "source": [
    "### Load the data in with pandas"
   ]
  },
  {
   "cell_type": "code",
   "execution_count": 2,
   "metadata": {},
   "outputs": [],
   "source": [
    "pos = pd.DataFrame(\n",
    "    [x.rstrip() for x\n",
    "     in open(\"../data/rt-polaritydata/rt-polarity.pos\").readlines()],\n",
    "columns=['review'])\n",
    "pos['type'] = 'positive'\n",
    "neg = pd.DataFrame(\n",
    "    [x.rstrip() for x\n",
    "     in open(\"../data/rt-polaritydata/rt-polarity.neg\").readlines()],\n",
    "columns=['review'])\n",
    "neg['type'] = 'negative'"
   ]
  },
  {
   "cell_type": "code",
   "execution_count": 3,
   "metadata": {},
   "outputs": [],
   "source": [
    "all_reviews = pd.concat([pos, neg]).sample(frac=1).reset_index()"
   ]
  },
  {
   "cell_type": "markdown",
   "metadata": {},
   "source": [
    "### Break sentences up into words"
   ]
  },
  {
   "cell_type": "code",
   "execution_count": 4,
   "metadata": {},
   "outputs": [
    {
     "data": {
      "text/plain": [
       "['passionate',\n",
       " ',',\n",
       " 'irrational',\n",
       " ',',\n",
       " 'long-suffering',\n",
       " 'but',\n",
       " 'cruel',\n",
       " 'as',\n",
       " 'a',\n",
       " 'tarantula',\n",
       " ',',\n",
       " 'helga',\n",
       " 'figures',\n",
       " 'prominently',\n",
       " 'in',\n",
       " 'this',\n",
       " 'movie',\n",
       " ',',\n",
       " 'and',\n",
       " 'helps',\n",
       " 'keep',\n",
       " 'the',\n",
       " 'proceedings',\n",
       " 'as',\n",
       " 'funny',\n",
       " 'for',\n",
       " 'grown-ups',\n",
       " 'as',\n",
       " 'for',\n",
       " 'rugrats',\n",
       " '.']"
      ]
     },
     "execution_count": 4,
     "metadata": {},
     "output_type": "execute_result"
    }
   ],
   "source": [
    "word_tokenize(all_reviews['review'].head(1).values[0])"
   ]
  },
  {
   "cell_type": "code",
   "execution_count": 5,
   "metadata": {},
   "outputs": [
    {
     "data": {
      "text/plain": [
       "0        [passionate, ,, irrational, ,, long-suffering,...\n",
       "1        [apart, from, its, own, considerable, achievem...\n",
       "2        [at, times, ,, however, ,, dogtown, and, z-boy...\n",
       "3        [kids, five, and, up, will, be, delighted, wit...\n",
       "4        [anyway, ,, for, one, reason, or, another, ,, ...\n",
       "                               ...                        \n",
       "10657    [a, wretched, movie, that, reduces, the, secon...\n",
       "10658    [the, holes, in, this, film, remain, agape, --...\n",
       "10659    [the, entire, film, is, one, big, excuse, to, ...\n",
       "10660    [the, ill-conceived, modern-day, ending, falls...\n",
       "10661    [too, sincere, to, exploit, its, subjects, and...\n",
       "Name: review, Length: 10662, dtype: object"
      ]
     },
     "execution_count": 5,
     "metadata": {},
     "output_type": "execute_result"
    }
   ],
   "source": [
    "all_reviews['review'].apply(lambda x: word_tokenize(x))"
   ]
  },
  {
   "cell_type": "markdown",
   "metadata": {},
   "source": [
    "### Lemmatization"
   ]
  },
  {
   "cell_type": "code",
   "execution_count": 6,
   "metadata": {},
   "outputs": [],
   "source": [
    "from nltk.stem.wordnet import WordNetLemmatizer"
   ]
  },
  {
   "cell_type": "code",
   "execution_count": 7,
   "metadata": {},
   "outputs": [
    {
     "data": {
      "text/plain": [
       "0        [passionate, ,, irrational, ,, long-suffering,...\n",
       "1        [apart, from, it, own, considerable, achieveme...\n",
       "2        [at, time, ,, however, ,, dogtown, and, z-boys...\n",
       "3        [kid, five, and, up, will, be, delighted, with...\n",
       "4        [anyway, ,, for, one, reason, or, another, ,, ...\n",
       "                               ...                        \n",
       "10657    [a, wretched, movie, that, reduces, the, secon...\n",
       "10658    [the, hole, in, this, film, remain, agape, --,...\n",
       "10659    [the, entire, film, is, one, big, excuse, to, ...\n",
       "10660    [the, ill-conceived, modern-day, ending, fall,...\n",
       "10661    [too, sincere, to, exploit, it, subject, and, ...\n",
       "Name: review, Length: 10662, dtype: object"
      ]
     },
     "execution_count": 7,
     "metadata": {},
     "output_type": "execute_result"
    }
   ],
   "source": [
    "wnl = WordNetLemmatizer()\n",
    "all_reviews['review'].apply(lambda x: [wnl.lemmatize(y) for y in word_tokenize(x)])"
   ]
  },
  {
   "cell_type": "code",
   "execution_count": 8,
   "metadata": {},
   "outputs": [],
   "source": [
    "from nltk.corpus import stopwords\n",
    "from nltk import download as nltk_download"
   ]
  },
  {
   "cell_type": "code",
   "execution_count": 9,
   "metadata": {},
   "outputs": [
    {
     "name": "stderr",
     "output_type": "stream",
     "text": [
      "[nltk_data] Downloading package stopwords to\n",
      "[nltk_data]     /Users/constantine/nltk_data...\n",
      "[nltk_data]   Package stopwords is already up-to-date!\n"
     ]
    }
   ],
   "source": [
    "nltk_download('stopwords')\n",
    "english_stopwords = set(stopwords.words('english'))"
   ]
  },
  {
   "cell_type": "code",
   "execution_count": 10,
   "metadata": {},
   "outputs": [
    {
     "data": {
      "text/plain": [
       "0        [passionate, ,, irrational, ,, long-suffering,...\n",
       "1        [apart, considerable, achievement, ,, metropol...\n",
       "2        [time, ,, however, ,, dogtown, z-boys, lapse, ...\n",
       "3        [kid, five, delighted, fast, ,, funny, ,, even...\n",
       "4        [anyway, ,, one, reason, another, ,, crush, tu...\n",
       "                               ...                        \n",
       "10657    [wretched, movie, reduces, second, world, war,...\n",
       "10658    [hole, film, remain, agape, --, hole, punched,...\n",
       "10659    [entire, film, one, big, excuse, play, one, le...\n",
       "10660    [ill-conceived, modern-day, ending, fall, flat...\n",
       "10661    [sincere, exploit, subject, honest, manipulate...\n",
       "Name: review, Length: 10662, dtype: object"
      ]
     },
     "execution_count": 10,
     "metadata": {},
     "output_type": "execute_result"
    }
   ],
   "source": [
    "all_reviews['review'].apply(\n",
    "    lambda x: [wnl.lemmatize(y) for y in word_tokenize(x)\n",
    "               if y not in english_stopwords])"
   ]
  },
  {
   "cell_type": "code",
   "execution_count": 11,
   "metadata": {},
   "outputs": [
    {
     "data": {
      "text/plain": [
       "0        [passionate, ,, irrational, ,, long-suffering,...\n",
       "1        [apart, considerable, achievement, ,, metropol...\n",
       "2        [times, ,, however, ,, dogtown, z-boys, lapses...\n",
       "3        [kids, five, delighted, fast, ,, funny, ,, eve...\n",
       "4        [anyway, ,, one, reason, another, ,, crush, tu...\n",
       "                               ...                        \n",
       "10657    [wretched, movie, reduces, second, world, war,...\n",
       "10658    [holes, film, remain, agape, --, holes, punche...\n",
       "10659    [entire, film, one, big, excuse, play, one, le...\n",
       "10660    [ill-conceived, modern-day, ending, falls, fla...\n",
       "10661    [sincere, exploit, subjects, honest, manipulat...\n",
       "Name: review, Length: 10662, dtype: object"
      ]
     },
     "execution_count": 11,
     "metadata": {},
     "output_type": "execute_result"
    }
   ],
   "source": [
    "all_reviews['review'].apply(\n",
    "    lambda x: [y for y in word_tokenize(x)\n",
    "               if y not in english_stopwords])"
   ]
  },
  {
   "cell_type": "code",
   "execution_count": null,
   "metadata": {},
   "outputs": [],
   "source": []
  }
 ],
 "metadata": {
  "kernelspec": {
   "display_name": "Python 3",
   "language": "python",
   "name": "python3"
  },
  "language_info": {
   "codemirror_mode": {
    "name": "ipython",
    "version": 3
   },
   "file_extension": ".py",
   "mimetype": "text/x-python",
   "name": "python",
   "nbconvert_exporter": "python",
   "pygments_lexer": "ipython3",
   "version": "3.7.0"
  }
 },
 "nbformat": 4,
 "nbformat_minor": 4
}
