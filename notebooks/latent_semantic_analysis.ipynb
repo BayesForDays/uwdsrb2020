{
 "cells": [
  {
   "cell_type": "markdown",
   "metadata": {},
   "source": [
    "## Load in basic prereqs and set up objects"
   ]
  },
  {
   "cell_type": "code",
   "execution_count": 1,
   "metadata": {},
   "outputs": [],
   "source": [
    "from nltk import sent_tokenize, word_tokenize\n",
    "import pandas as pd\n",
    "from sklearn.feature_extraction.text import CountVectorizer\n",
    "from sklearn.decomposition import PCA"
   ]
  },
  {
   "cell_type": "code",
   "execution_count": 2,
   "metadata": {},
   "outputs": [],
   "source": [
    "cv = CountVectorizer(min_df=1, tokenizer=word_tokenize)"
   ]
  },
  {
   "cell_type": "markdown",
   "metadata": {},
   "source": [
    "## Load in the data"
   ]
  },
  {
   "cell_type": "code",
   "execution_count": 3,
   "metadata": {},
   "outputs": [],
   "source": [
    "pos = pd.DataFrame(\n",
    "    [x.rstrip() for x\n",
    "     in open(\"../data/rt-polaritydata/rt-polarity.pos\").readlines()],\n",
    "columns=['review'])\n",
    "pos['type'] = 'positive'\n",
    "neg = pd.DataFrame(\n",
    "    [x.rstrip() for x\n",
    "     in open(\"../data/rt-polaritydata/rt-polarity.neg\").readlines()],\n",
    "columns=['review'])\n",
    "neg['type'] = 'negative'"
   ]
  },
  {
   "cell_type": "code",
   "execution_count": 4,
   "metadata": {},
   "outputs": [],
   "source": [
    "TRAIN_PROP = 0.8"
   ]
  },
  {
   "cell_type": "code",
   "execution_count": 5,
   "metadata": {},
   "outputs": [],
   "source": [
    "train_pos = pos.sample(frac=TRAIN_PROP)\n",
    "train_neg = neg.sample(frac=TRAIN_PROP)\n",
    "train_reviews = pd.concat([train_pos, train_neg])"
   ]
  },
  {
   "cell_type": "code",
   "execution_count": 6,
   "metadata": {},
   "outputs": [],
   "source": [
    "test_pos = pos.drop(train_pos.index)\n",
    "test_neg = neg.drop(train_neg.index)\n",
    "test_reviews = pd.concat([test_pos, test_neg])"
   ]
  },
  {
   "cell_type": "code",
   "execution_count": 7,
   "metadata": {},
   "outputs": [],
   "source": [
    "train_bow = cv.fit_transform(train_reviews['review'])"
   ]
  },
  {
   "cell_type": "markdown",
   "metadata": {},
   "source": [
    "Let's see the size of the vocabulary with no fancy transformations on the sentence:"
   ]
  },
  {
   "cell_type": "code",
   "execution_count": 8,
   "metadata": {},
   "outputs": [
    {
     "name": "stdout",
     "output_type": "stream",
     "text": [
      "18085\n"
     ]
    }
   ],
   "source": [
    "print(len(cv.get_feature_names()))"
   ]
  },
  {
   "cell_type": "markdown",
   "metadata": {},
   "source": [
    "### Build principle components analysis object and then transform BOW into smaller dimension"
   ]
  },
  {
   "cell_type": "code",
   "execution_count": 9,
   "metadata": {},
   "outputs": [],
   "source": [
    "N_COMPONENTS = 1000\n",
    "WHITEN = True # to center features or not\n",
    "pca = PCA(n_components=N_COMPONENTS, whiten=WHITEN)"
   ]
  },
  {
   "cell_type": "code",
   "execution_count": 10,
   "metadata": {},
   "outputs": [],
   "source": [
    "train_vecs = pca.fit_transform(train_bow.todense())"
   ]
  },
  {
   "cell_type": "markdown",
   "metadata": {},
   "source": [
    "## Don't forget to get the bag of words for the test set!"
   ]
  },
  {
   "cell_type": "code",
   "execution_count": 11,
   "metadata": {},
   "outputs": [],
   "source": [
    "test_vecs = pca.transform(\n",
    "    cv.transform(test_reviews['review']).todense())"
   ]
  },
  {
   "cell_type": "code",
   "execution_count": 12,
   "metadata": {},
   "outputs": [
    {
     "data": {
      "text/plain": [
       "array([[ 1.90726938, -2.35433578,  2.97862158, ...,  1.24696455,\n",
       "        -0.13664707,  0.97219216],\n",
       "       [-1.5266682 , -0.33614623, -1.30526253, ..., -0.20930712,\n",
       "         0.003721  , -0.04018791],\n",
       "       [-0.3852074 , -0.08889897, -0.44076016, ..., -0.26394594,\n",
       "         0.119574  ,  0.55185054],\n",
       "       ...,\n",
       "       [ 1.99043076,  1.35390085, -1.07393365, ...,  0.86028029,\n",
       "        -0.47860171, -0.55720906],\n",
       "       [-0.81057942,  0.2947098 ,  0.11331359, ...,  0.36269267,\n",
       "        -0.03196597, -0.01421735],\n",
       "       [-0.83558672, -0.6724384 , -0.19066866, ..., -0.30272174,\n",
       "         0.14110603, -0.00721906]])"
      ]
     },
     "execution_count": 12,
     "metadata": {},
     "output_type": "execute_result"
    }
   ],
   "source": [
    "test_vecs"
   ]
  },
  {
   "cell_type": "markdown",
   "metadata": {},
   "source": [
    "## Train our classifier with LSA features and assess test accuracy"
   ]
  },
  {
   "cell_type": "code",
   "execution_count": 13,
   "metadata": {},
   "outputs": [],
   "source": [
    "from sklearn.linear_model import LogisticRegressionCV"
   ]
  },
  {
   "cell_type": "code",
   "execution_count": 14,
   "metadata": {},
   "outputs": [],
   "source": [
    "MAX_ITER = 1000\n",
    "model = LogisticRegressionCV(max_iter=MAX_ITER)"
   ]
  },
  {
   "cell_type": "code",
   "execution_count": 15,
   "metadata": {},
   "outputs": [
    {
     "data": {
      "text/plain": [
       "LogisticRegressionCV(Cs=10, class_weight=None, cv=None, dual=False,\n",
       "                     fit_intercept=True, intercept_scaling=1.0, l1_ratios=None,\n",
       "                     max_iter=1000, multi_class='auto', n_jobs=None,\n",
       "                     penalty='l2', random_state=None, refit=True, scoring=None,\n",
       "                     solver='lbfgs', tol=0.0001, verbose=0)"
      ]
     },
     "execution_count": 15,
     "metadata": {},
     "output_type": "execute_result"
    }
   ],
   "source": [
    "model.fit(X=train_vecs, y=train_reviews['type'])"
   ]
  },
  {
   "cell_type": "code",
   "execution_count": 16,
   "metadata": {},
   "outputs": [
    {
     "data": {
      "text/plain": [
       "0.7363977485928705"
      ]
     },
     "execution_count": 16,
     "metadata": {},
     "output_type": "execute_result"
    }
   ],
   "source": [
    "model.score(X=test_vecs, y=test_reviews['type'])"
   ]
  },
  {
   "cell_type": "code",
   "execution_count": null,
   "metadata": {},
   "outputs": [],
   "source": []
  }
 ],
 "metadata": {
  "kernelspec": {
   "display_name": "Python 3",
   "language": "python",
   "name": "python3"
  },
  "language_info": {
   "codemirror_mode": {
    "name": "ipython",
    "version": 3
   },
   "file_extension": ".py",
   "mimetype": "text/x-python",
   "name": "python",
   "nbconvert_exporter": "python",
   "pygments_lexer": "ipython3",
   "version": "3.7.0"
  }
 },
 "nbformat": 4,
 "nbformat_minor": 4
}
